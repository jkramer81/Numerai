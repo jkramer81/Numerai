{
  "cells": [
    {
      "cell_type": "code",
      "metadata": {},
      "source": [
        "from hpo import gbm_hpo, nn_hpo, ae_hpo\n",
        "from dotenv import load_dotenv\n",
        "import os\n",
        "import numerapi\n",
        "\n",
        "\n",
        "def credentials():\n",
        "    dotenv_path = 'num_config.env'\n",
        "    load_dotenv(dotenv_path=dotenv_path)\n",
        "    pub_id = os.getenv('PUBLIC_ID')\n",
        "    priv_key = os.getenv('PRIVATE_KEY')\n",
        "    latest_round = os.getenv('LATEST_ROUND')\n",
        "    #pub_id = \"C4Q5XUHAH3MSMAHHHRHSQWHG2SUW5Q54\"\n",
        "    #priv_key = \"QSBJY72HUPPDJBP3UF7JPFHRK4CV3ITWOEWQNWXD44RUTVORXQCB5BYIQK7I4CMD\"\n",
        "    #latest_round = 156\n",
        "    return {'PUBLIC_ID': pub_id, 'PRIVATE_KEY': priv_key, 'LATEST_ROUND': latest_round}\n",
        "\n",
        "\n",
        "def download_data(api: numerapi.NumerAPI, keys):\n",
        "    if int(keys['LATEST_ROUND']) == api.get_current_round():\n",
        "        return int(keys['LATEST_ROUND'])\n",
        "    else:\n",
        "        LATEST_ROUND = api.get_current_round()\n",
        "        api.download_current_dataset('./data')\n",
        "        return LATEST_ROUND\n",
        "\n",
        "\n",
        "def update_env_file(env_vars):\n",
        "    with open('num_config.env', 'w') as f:\n",
        "        f.write(f'LATEST_ROUND={env_vars[\"LATEST_ROUND\"]}\\n')\n",
        "        f.write(f'PUBLIC_ID={env_vars[\"PUBLIC_ID\"]}\\n')\n",
        "        f.write(f'PRIVATE_KEY={env_vars[\"PRIVATE_KEY\"]}\\n')\n",
        "\n",
        "def create_preds():\n",
        "    pass\n",
        "def main():\n",
        "    keys = credentials()\n",
        "    numapi = numerapi.NumerAPI(\n",
        "        verbosity='INFO', public_id=keys['PUBLIC_ID'], secret_key=keys['PRIVATE_KEY'])\n",
        "    keys['LATEST_ROUND'] = download_data(numapi, keys)\n",
        "    update_env_file(keys)\n",
        "    #gbm_hpo.main()\n",
        "    #ae_hpo.main()\n",
        "    print(\"nn_hpo...\")\n",
        "    nn_hpo.main(train_ae=False)\n",
        "\n",
        "if __name__ == '__main__':\n",
        "    main()\n"
      ],
      "outputs": [],
      "execution_count": null
    }
  ],
  "metadata": {
    "anaconda-cloud": {},
    "kernelspec": {
      "display_name": "Python 3",
      "language": "python",
      "name": "python3"
    },
    "language_info": {
      "codemirror_mode": {
        "name": "ipython",
        "version": 3
      },
      "file_extension": ".py",
      "mimetype": "text/x-python",
      "name": "python",
      "nbconvert_exporter": "python",
      "pygments_lexer": "ipython3",
      "version": "3.6.1"
    }
  },
  "nbformat": 4,
  "nbformat_minor": 4
}